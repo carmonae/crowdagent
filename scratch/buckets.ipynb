{
 "cells": [
  {
   "cell_type": "code",
   "execution_count": 15,
   "id": "ac5664ab",
   "metadata": {},
   "outputs": [
    {
     "name": "stdout",
     "output_type": "stream",
     "text": [
      "Defaulting to user installation because normal site-packages is not writeable\n",
      "Collecting ace_tools\n",
      "  Downloading ace_tools-0.0-py3-none-any.whl (1.1 kB)\n",
      "Installing collected packages: ace-tools\n",
      "Successfully installed ace-tools-0.0\n",
      "\u001b[33mWARNING: You are using pip version 21.2.4; however, version 25.1.1 is available.\n",
      "You should consider upgrading via the '/Applications/Xcode.app/Contents/Developer/usr/bin/python3 -m pip install --upgrade pip' command.\u001b[0m\n",
      "Note: you may need to restart the kernel to use updated packages.\n"
     ]
    }
   ],
   "source": [
    "\n",
    "pip install ace_tools"
   ]
  },
  {
   "cell_type": "code",
   "execution_count": 24,
   "id": "3d14d215",
   "metadata": {},
   "outputs": [
    {
     "name": "stdout",
     "output_type": "stream",
     "text": [
      "{'Last 7 Days Total': 10080, 'Last Full Week Total': 10080, 'Last Full Month Total': 10080, 'Last Full Year Total': 10080, 'Daily Breakdown': [1440, 1440, 1440, 1440, 1440, 1440, 1440]}\n"
     ]
    }
   ],
   "source": [
    "from datetime import datetime, timedelta\n",
    "from collections import deque, defaultdict\n",
    "\n",
    "import pandas as pd\n",
    "\n",
    "# Configurable settings\n",
    "MAX_DAILY_BUCKETS = 7  # for \"last 7 days\"\n",
    "daily_buckets = deque(maxlen=MAX_DAILY_BUCKETS)  # rolling window\n",
    "weekly_total = 0\n",
    "monthly_total = 0\n",
    "yearly_total = 0\n",
    "\n",
    "# Simulate incoming data stream (minute-by-minute)\n",
    "def simulate_data_stream(start_date, days, kpi_values_per_day):\n",
    "    current_date = start_date\n",
    "    all_data = []\n",
    "    for i in range(days):\n",
    "        for _ in range(kpi_values_per_day):\n",
    "            timestamp = datetime(current_date.year, current_date.month, current_date.day)\n",
    "            all_data.append({\"timestamp\": timestamp, \"kpi1\": 1})  # every event adds 1\n",
    "        current_date += timedelta(days=1)\n",
    "    return all_data\n",
    "\n",
    "# Process data into daily bucket and roll up older ones\n",
    "def process_stream(data):\n",
    "    global weekly_total, monthly_total, yearly_total\n",
    "    last_processed_date = None\n",
    "    current_day_sum = 0\n",
    "\n",
    "    for event in data:\n",
    "        event_date = event[\"timestamp\"].date()\n",
    "        if last_processed_date and event_date != last_processed_date:\n",
    "            # End of a day, push to daily bucket\n",
    "            if len(daily_buckets) == MAX_DAILY_BUCKETS:\n",
    "                expired_value = daily_buckets[0]\n",
    "                weekly_total -= expired_value\n",
    "                monthly_total -= expired_value\n",
    "                yearly_total -= expired_value\n",
    "\n",
    "            daily_buckets.append(current_day_sum)\n",
    "            weekly_total += current_day_sum\n",
    "            monthly_total += current_day_sum\n",
    "            yearly_total += current_day_sum\n",
    "            current_day_sum = 0\n",
    "\n",
    "        current_day_sum += event[\"kpi1\"]\n",
    "        last_processed_date = event_date\n",
    "\n",
    "    # Handle the last day\n",
    "    if current_day_sum > 0:\n",
    "        if len(daily_buckets) == MAX_DAILY_BUCKETS:\n",
    "            expired_value = daily_buckets[0]\n",
    "            weekly_total -= expired_value\n",
    "            monthly_total -= expired_value\n",
    "            yearly_total -= expired_value\n",
    "        daily_buckets.append(current_day_sum)\n",
    "        weekly_total += current_day_sum\n",
    "        monthly_total += current_day_sum\n",
    "        yearly_total += current_day_sum\n",
    "\n",
    "# Simulate and process\n",
    "start_date = datetime(2025, 5, 15)\n",
    "data_stream = simulate_data_stream(start_date, days=31, kpi_values_per_day=1440)  # 1440 = 1 per minute\n",
    "process_stream(data_stream)\n",
    "\n",
    "\n",
    "# Show current bucket states\n",
    "kpi_summary = {\n",
    "    \"Last 7 Days Total\": sum(daily_buckets),\n",
    "    \"Last Full Week Total\": weekly_total,\n",
    "    \"Last Full Month Total\": monthly_total,\n",
    "    \"Last Full Year Total\": yearly_total,\n",
    "    \"Daily Breakdown\": list(daily_buckets),\n",
    "}\n",
    "\n",
    "print(kpi_summary)\n"
   ]
  },
  {
   "cell_type": "code",
   "execution_count": null,
   "id": "6754fb19",
   "metadata": {},
   "outputs": [],
   "source": []
  },
  {
   "cell_type": "code",
   "execution_count": null,
   "id": "b543d085",
   "metadata": {},
   "outputs": [],
   "source": []
  }
 ],
 "metadata": {
  "kernelspec": {
   "display_name": "Python 3",
   "language": "python",
   "name": "python3"
  },
  "language_info": {
   "codemirror_mode": {
    "name": "ipython",
    "version": 3
   },
   "file_extension": ".py",
   "mimetype": "text/x-python",
   "name": "python",
   "nbconvert_exporter": "python",
   "pygments_lexer": "ipython3",
   "version": "3.9.6"
  }
 },
 "nbformat": 4,
 "nbformat_minor": 5
}
